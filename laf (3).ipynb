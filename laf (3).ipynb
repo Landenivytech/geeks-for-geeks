{
 "cells": [
  {
   "cell_type": "code",
   "execution_count": null,
   "id": "71b3fcdc-074b-48fa-a306-288ab242090e",
   "metadata": {},
   "outputs": [
    {
     "name": "stdout",
     "output_type": "stream",
     "text": [
      "['mozzarella', 'Cinderella', 'salmonella']\n",
      "['MOZZARELLA', 'cinderella', 'salmonella']\n",
      "['mozzarella', 'cinderella']\n"
     ]
    }
   ],
   "source": [
    "#7.4\n",
    "things =[\"mozzarella\", \"cinderella\", \"salmonella\"]\n",
    "#7.5\n",
    "\n",
    "things[1] = things[1].capitalize()\n",
    "print(things)\n",
    "#7.6\n",
    "things =[\"mozzarella\", \"cinderella\", \"salmonella\"]\n",
    "things[0] = things[0].upper()\n",
    "# it changed the element so that cinderella is uppercased\n",
    "print(things)\n",
    "# 7.7\n",
    "things =[\"mozzarella\", \"cinderella\", \"salmonella\"]\n",
    "del things[2]\n",
    "print(things)"
   ]
  },
  {
   "cell_type": "code",
   "execution_count": 8,
   "id": "89b7564a-220d-4d87-bbd7-a0558d5112d4",
   "metadata": {},
   "outputs": [],
   "source": [
    "#9.1\n",
    "def good():\n",
    "    return(['Harry', 'Ron', 'Hermione'])"
   ]
  },
  {
   "cell_type": "code",
   "execution_count": 9,
   "id": "f97197f6-b47f-4af6-9c22-af50fe3f7252",
   "metadata": {},
   "outputs": [
    {
     "ename": "UnboundLocalError",
     "evalue": "cannot access local variable 'number' where it is not associated with a value",
     "output_type": "error",
     "traceback": [
      "\u001b[31m---------------------------------------------------------------------------\u001b[39m",
      "\u001b[31mUnboundLocalError\u001b[39m                         Traceback (most recent call last)",
      "\u001b[36mCell\u001b[39m\u001b[36m \u001b[39m\u001b[32mIn[9]\u001b[39m\u001b[32m, line 11\u001b[39m\n\u001b[32m      7\u001b[39m             \u001b[38;5;28;01mif\u001b[39;00m number == \u001b[32m3\u001b[39m:\n\u001b[32m      8\u001b[39m                 \u001b[38;5;28mprint\u001b[39m(x)\n\u001b[32m---> \u001b[39m\u001b[32m11\u001b[39m \u001b[43mget_odds\u001b[49m\u001b[43m(\u001b[49m\u001b[43m)\u001b[49m\n",
      "\u001b[36mCell\u001b[39m\u001b[36m \u001b[39m\u001b[32mIn[9]\u001b[39m\u001b[32m, line 6\u001b[39m, in \u001b[36mget_odds\u001b[39m\u001b[34m()\u001b[39m\n\u001b[32m      4\u001b[39m \u001b[38;5;28;01mfor\u001b[39;00m x \u001b[38;5;129;01min\u001b[39;00m \u001b[38;5;28mrange\u001b[39m(\u001b[32m1\u001b[39m, \u001b[32m10\u001b[39m):\n\u001b[32m      5\u001b[39m     \u001b[38;5;28;01mif\u001b[39;00m x % \u001b[32m2\u001b[39m == \u001b[32m0\u001b[39m:\n\u001b[32m----> \u001b[39m\u001b[32m6\u001b[39m         number = \u001b[43mnumber\u001b[49m + \u001b[32m1\u001b[39m    \n\u001b[32m      7\u001b[39m         \u001b[38;5;28;01mif\u001b[39;00m number == \u001b[32m3\u001b[39m:\n\u001b[32m      8\u001b[39m             \u001b[38;5;28mprint\u001b[39m(x)\n",
      "\u001b[31mUnboundLocalError\u001b[39m: cannot access local variable 'number' where it is not associated with a value"
     ]
    }
   ],
   "source": [
    "#9.2\n",
    "number = 0\n",
    "def get_odds():\n",
    "    for x in range(1, 10):\n",
    "        if x % 2 == 0:\n",
    "            number = number + 1    \n",
    "            if number == 3:\n",
    "                print(x)\n",
    "\n",
    "                \n",
    "get_odds()"
   ]
  },
  {
   "cell_type": "code",
   "execution_count": null,
   "id": "2a3a8b1a-72d9-49c8-9999-26145e83e626",
   "metadata": {},
   "outputs": [],
   "source": []
  },
  {
   "cell_type": "code",
   "execution_count": null,
   "id": "b1e55691-1dd7-4985-8a92-72a19c74c5ea",
   "metadata": {},
   "outputs": [],
   "source": []
  },
  {
   "cell_type": "code",
   "execution_count": null,
   "id": "8e361ca1-413a-46fc-bb1c-145c563ab919",
   "metadata": {},
   "outputs": [],
   "source": []
  },
  {
   "cell_type": "code",
   "execution_count": null,
   "id": "9bcb4d1f-62e9-44ca-af5a-f5f55bec25b5",
   "metadata": {},
   "outputs": [],
   "source": []
  },
  {
   "cell_type": "code",
   "execution_count": null,
   "id": "abdf3830-8999-4006-80d7-2dd5d255a678",
   "metadata": {},
   "outputs": [],
   "source": []
  },
  {
   "cell_type": "code",
   "execution_count": null,
   "id": "862568d0-5c50-4260-bb7a-73731ace37d9",
   "metadata": {},
   "outputs": [],
   "source": []
  },
  {
   "cell_type": "code",
   "execution_count": null,
   "id": "72538c20-6490-445f-bb91-de80e016e71a",
   "metadata": {},
   "outputs": [],
   "source": []
  },
  {
   "cell_type": "code",
   "execution_count": null,
   "id": "e77b4def-3864-4317-9253-38ddd1ebf56d",
   "metadata": {},
   "outputs": [],
   "source": []
  },
  {
   "cell_type": "code",
   "execution_count": null,
   "id": "ecb52541-bd6d-4c61-9a13-96a5578cfb49",
   "metadata": {},
   "outputs": [],
   "source": []
  }
 ],
 "metadata": {
  "kernelspec": {
   "display_name": "Python 3",
   "language": "python",
   "name": "python3"
  },
  "language_info": {
   "codemirror_mode": {
    "name": "ipython",
    "version": 3
   },
   "file_extension": ".py",
   "mimetype": "text/x-python",
   "name": "python",
   "nbconvert_exporter": "python",
   "pygments_lexer": "ipython3",
   "version": "3.11.9"
  }
 },
 "nbformat": 4,
 "nbformat_minor": 5
}
