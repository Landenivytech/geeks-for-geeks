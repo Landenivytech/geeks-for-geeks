{
 "cells": [
  {
   "cell_type": "code",
   "execution_count": 16,
   "id": "71b3fcdc-074b-48fa-a306-288ab242090e",
   "metadata": {},
   "outputs": [
    {
     "name": "stdout",
     "output_type": "stream",
     "text": [
      "['Mozzarella', 'cinderella', 'salmonella']\n",
      "['MOZZARELLA', 'cinderella', 'salmonella']\n",
      "['MOZZARELLA', 'cinderella']\n"
     ]
    }
   ],
   "source": [
    "#7.4\n",
    "things =[\"mozzarella\", \"cinderella\", \"salmonella\"]\n",
    "#7.5\n",
    "\n",
    "things[0] = things[0].capitalize()\n",
    "print(things)\n",
    "#7.6\n",
    "\n",
    "things[0] = things[0].upper()\n",
    "print(things)\n",
    "#7.7\n",
    "\n",
    "del things[2]\n",
    "print(things)"
   ]
  },
  {
   "cell_type": "code",
   "execution_count": 17,
   "id": "89b7564a-220d-4d87-bbd7-a0558d5112d4",
   "metadata": {},
   "outputs": [],
   "source": [
    "#9.1\n",
    "def good():\n",
    "    return(['Harry', 'Ron', 'Hermione'])"
   ]
  },
  {
   "cell_type": "code",
   "execution_count": 18,
   "id": "f97197f6-b47f-4af6-9c22-af50fe3f7252",
   "metadata": {},
   "outputs": [
    {
     "name": "stdout",
     "output_type": "stream",
     "text": [
      "5\n"
     ]
    }
   ],
   "source": [
    "#9.2\n",
    "def get_odds(first=0, last=10, step=2):\n",
    "     number = first\n",
    "     while number < last:\n",
    "         yield number\n",
    "         number += step\n",
    "renge = get_odds(1, 10)\n",
    "count = 0\n",
    "for x in renge:\n",
    "    count = count + 1\n",
    "    if count == 3:\n",
    "        print(x)"
   ]
  },
  {
   "cell_type": "code",
   "execution_count": null,
   "id": "b1e55691-1dd7-4985-8a92-72a19c74c5ea",
   "metadata": {},
   "outputs": [],
   "source": []
  }
 ],
 "metadata": {
  "kernelspec": {
   "display_name": "base",
   "language": "python",
   "name": "python3"
  },
  "language_info": {
   "codemirror_mode": {
    "name": "ipython",
    "version": 3
   },
   "file_extension": ".py",
   "mimetype": "text/x-python",
   "name": "python",
   "nbconvert_exporter": "python",
   "pygments_lexer": "ipython3",
   "version": "3.13.5"
  }
 },
 "nbformat": 4,
 "nbformat_minor": 5
}
