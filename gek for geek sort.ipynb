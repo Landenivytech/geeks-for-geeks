{
 "cells": [
  {
   "cell_type": "code",
   "execution_count": 3,
   "id": "19991838-72be-4eb0-a7b1-f0cadc92082d",
   "metadata": {},
   "outputs": [
    {
     "name": "stdout",
     "output_type": "stream",
     "text": [
      "[0, 0, 1, 1, 2, 2]\n"
     ]
    }
   ],
   "source": [
    "class Solution:\n",
    "    def sort012(self, arr):\n",
    "        # code here\n",
    "      \n",
    "        b0 = 0\n",
    "        b1 = 0\n",
    "        b2 = 0\n",
    "           \n",
    "        for number in arr:\n",
    "            if number == 0:\n",
    "                b0 += 1\n",
    "            elif number == 1:\n",
    "                b1 += 1\n",
    "            else:\n",
    "                b2 += 1\n",
    "                \n",
    "        index = 0\n",
    "        for b in range(b0):\n",
    "            arr[index] = 0\n",
    "            index = index + 1\n",
    "        for b in range(b1):\n",
    "            arr[index] = 1\n",
    "            index = index + 1\n",
    "        for b in range(b2):\n",
    "            arr[index] = 2\n",
    "            index = index + 1\n",
    "        print(arr)\n",
    "    sort012(\"array\", [0, 1, 2, 0, 1, 2])\n",
    "    \n",
    "    "
   ]
  },
  {
   "cell_type": "code",
   "execution_count": null,
   "id": "88858784-f14d-495a-b64f-97d387a81cbb",
   "metadata": {},
   "outputs": [],
   "source": []
  }
 ],
 "metadata": {
  "kernelspec": {
   "display_name": "Python 3 (ipykernel)",
   "language": "python",
   "name": "python3"
  },
  "language_info": {
   "codemirror_mode": {
    "name": "ipython",
    "version": 3
   },
   "file_extension": ".py",
   "mimetype": "text/x-python",
   "name": "python",
   "nbconvert_exporter": "python",
   "pygments_lexer": "ipython3",
   "version": "3.13.5"
  }
 },
 "nbformat": 4,
 "nbformat_minor": 5
}
